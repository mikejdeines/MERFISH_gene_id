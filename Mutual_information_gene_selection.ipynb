{
 "cells": [
  {
   "cell_type": "raw",
   "id": "2addac97-8222-4e30-8e9d-42cf40367518",
   "metadata": {},
   "source": [
    "Modified from https://github.com/felixhorns/FlyPN"
   ]
  },
  {
   "cell_type": "code",
   "execution_count": null,
   "id": "763af216-d704-417e-81eb-1ffc6c4d346d",
   "metadata": {},
   "outputs": [],
   "source": [
    "# Import packages\n",
    "import numpy as np\n",
    "import pandas as pd\n",
    "import scipy\n",
    "from sklearn.metrics import mutual_info_score"
   ]
  },
  {
   "cell_type": "code",
   "execution_count": null,
   "id": "b7021df5-aaf7-46e9-a8ad-74a905de7008",
   "metadata": {},
   "outputs": [],
   "source": [
    "# Import single-cell counts and cluster labels\n",
    "sct_data = pd.read_csv(\"\") # Path to counts csv\n",
    "labels = pd.read_csv(\"\") # Path to cluster labels csv"
   ]
  },
  {
   "cell_type": "code",
   "execution_count": null,
   "id": "6080b30a-58ea-4f11-b2f2-a33c95cf53c2",
   "metadata": {},
   "outputs": [],
   "source": [
    "sct_data_dropped = sct_data.drop([\"Unnamed: 0\"], axis = 1)\n",
    "labels.set_index(\"Unnamed: 0\", inplace = True)"
   ]
  },
  {
   "cell_type": "code",
   "execution_count": null,
   "id": "8df5239d-bdb4-422d-b449-182ddfc65a28",
   "metadata": {},
   "outputs": [],
   "source": [
    "# Flatten the data\n",
    "sct_data_flat = sct_data_dropped.values.flatten()"
   ]
  },
  {
   "cell_type": "code",
   "execution_count": null,
   "id": "98d57b93-ccc4-4e8d-944a-1da34467caff",
   "metadata": {},
   "outputs": [],
   "source": [
    "# Binarize expression values and format for calculating mutual information\n",
    "bins = [0, 1, np.max(sct_data_flat)]\n",
    "expression_labels = [\"Off\",\"On\"]\n",
    "sct_discrete = pd.cut(sct_data_flat, bins = bins, labels = expression_labels, include_lowest = True)\n",
    "sct_discrete = pd.DataFrame(np.array(sct_discrete).reshape(sct_data_dropped.shape))\n",
    "sct_discrete.columns = sct_data_dropped.columns\n",
    "sct_discrete[\"Genes\"] = sct_data[[\"Unnamed: 0\"]]\n",
    "sct_discrete.set_index(\"Genes\", inplace=True)"
   ]
  },
  {
   "cell_type": "code",
   "execution_count": null,
   "id": "528e89c2-a4cf-4658-9ea7-f47ac0f93551",
   "metadata": {},
   "outputs": [],
   "source": [
    "def calc_mutual_information(df_discrete, labels):\n",
    "    mutual_informations = []\n",
    "    for symbol, row in df_discrete.iterrows():\n",
    "        mi = mutual_info_score(row, labels) / np.log(2) # calculate mutual information, convert from nats to bits\n",
    "        mutual_informations.append(mi)\n",
    "    df_result = pd.DataFrame()\n",
    "    df_result[\"symbol\"] = df_discrete.index\n",
    "    df_result.set_index(\"symbol\", inplace=True)\n",
    "    df_result[\"mutual_information\"] = mutual_informations\n",
    "    df_result.sort_values(\"mutual_information\", inplace=True, ascending=False)\n",
    "    return df_result"
   ]
  },
  {
   "cell_type": "code",
   "execution_count": null,
   "id": "c0153a23-efdc-4767-9cec-f959a9220fca",
   "metadata": {},
   "outputs": [],
   "source": [
    "mutual_info = calc_mutual_information(sct_discrete, labels[\"x\"])"
   ]
  },
  {
   "cell_type": "code",
   "execution_count": null,
   "id": "530972a7-dba0-4c89-8411-806a79b6051a",
   "metadata": {},
   "outputs": [],
   "source": [
    "pd.DataFrame.to_csv(mutual_info, \"mutual_information.csv\")"
   ]
  }
 ],
 "metadata": {
  "kernelspec": {
   "display_name": "Python 3 (ipykernel)",
   "language": "python",
   "name": "python3"
  },
  "language_info": {
   "codemirror_mode": {
    "name": "ipython",
    "version": 3
   },
   "file_extension": ".py",
   "mimetype": "text/x-python",
   "name": "python",
   "nbconvert_exporter": "python",
   "pygments_lexer": "ipython3",
   "version": "3.12.7"
  }
 },
 "nbformat": 4,
 "nbformat_minor": 5
}
